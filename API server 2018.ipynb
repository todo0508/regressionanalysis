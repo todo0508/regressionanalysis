{
 "cells": [
  {
   "cell_type": "code",
   "execution_count": 8,
   "metadata": {},
   "outputs": [
    {
     "name": "stdout",
     "output_type": "stream",
     "text": [
      "回帰係数::[3.24173469]\n",
      "切片 (誤差)::139.8364962580481\n",
      "決定係数::0.8618695775658041\n"
     ]
    },
    {
     "name": "stderr",
     "output_type": "stream",
     "text": [
      "/Users/hirokiariji/work/tmp/env/lib/python3.6/site-packages/scipy/linalg/basic.py:1226: RuntimeWarning: internal gelsd driver lwork query error, required iwork dimension not returned. This is likely the result of LAPACK bug 0038, fixed in LAPACK 3.2.2 (released July 21, 2010). Falling back to 'gelss' driver.\n",
      "  warnings.warn(mesg, RuntimeWarning)\n"
     ]
    }
   ],
   "source": [
    "import pandas as pd\n",
    "import numpy as np\n",
    "from pandas import Series,DataFrame\n",
    "import matplotlib.pyplot as plt\n",
    "from sklearn import linear_model\n",
    "from sklearn.datasets import load_boston\n",
    "\n",
    "clf = linear_model.LinearRegression()\n",
    "system = pd.read_csv(\"api_server_2018.csv\", sep=\",\")\n",
    "system.head()\n",
    "#print(system.size)\n",
    "\n",
    "#print(system.index.values)\n",
    "#print(system.columns.values)\n",
    "X = system.loc[:, ['CPU']].as_matrix()\n",
    "Y = system[\"SPPV\"].as_matrix()\n",
    "\n",
    "# 予測モデルを作成\n",
    "clf.fit(X, Y)\n",
    " \n",
    "# 回帰係数\n",
    "print(\"回帰係数::\"+str(clf.coef_))\n",
    " \n",
    "# 切片 (誤差)\n",
    "print(\"切片 (誤差)::\"+str(clf.intercept_))\n",
    " \n",
    "# 決定係数\n",
    "print(\"決定係数::\"+str(clf.score(X, Y)))\n"
   ]
  },
  {
   "cell_type": "code",
   "execution_count": 9,
   "metadata": {},
   "outputs": [
    {
     "name": "stdout",
     "output_type": "stream",
     "text": [
      "16台の時の回帰直線\n"
     ]
    },
    {
     "data": {
      "image/png": "[encoded data removed]",
      "text/plain": [
       "<Figure size 432x288 with 1 Axes>"
      ]
     },
     "metadata": {},
     "output_type": "display_data"
    }
   ],
   "source": [
    "import matplotlib.pyplot as plt\n",
    " \n",
    "# 散布図\n",
    "plt.scatter(X, Y)\n",
    " \n",
    "# 回帰直線\n",
    "plt.plot(X, clf.predict(X))\n",
    "\n",
    "print(\"16台の時の回帰直線\")"
   ]
  },
  {
   "cell_type": "code",
   "execution_count": null,
   "metadata": {},
   "outputs": [],
   "source": []
  }
 ],
 "metadata": {
  "kernelspec": {
   "display_name": "Python 3",
   "language": "python",
   "name": "python3"
  },
  "language_info": {
   "codemirror_mode": {
    "name": "ipython",
    "version": 3
   },
   "file_extension": ".py",
   "mimetype": "text/x-python",
   "name": "python",
   "nbconvert_exporter": "python",
   "pygments_lexer": "ipython3",
   "version": "3.6.5"
  }
 },
 "nbformat": 4,
 "nbformat_minor": 2
}
